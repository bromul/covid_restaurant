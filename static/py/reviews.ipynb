{
 "cells": [
  {
   "cell_type": "markdown",
   "metadata": {},
   "source": [
    "#### Data from [Yelp Dataset JSON](https://www.yelp.com/dataset)"
   ]
  },
  {
   "cell_type": "code",
   "execution_count": 1,
   "metadata": {},
   "outputs": [],
   "source": [
    "# Import dependencies\n",
    "import pandas as pd\n",
    "import json\n",
    "\n",
    "# Import NLTK\n",
    "import nltk\n",
    "from nltk.tokenize import word_tokenize\n",
    "from nltk.corpus import stopwords\n",
    "from nltk.stem import WordNetLemmatizer \n"
   ]
  },
  {
   "cell_type": "code",
   "execution_count": 2,
   "metadata": {},
   "outputs": [],
   "source": [
    "# Create and Open data file\n",
    "data_file = open('../../Data/archive/yelp_academic_dataset_review.json', encoding = 'utf8')\n",
    "data = []\n",
    "\n",
    "# Read in data\n",
    "for line in data_file:\n",
    "    data.append(json.loads(line))\n",
    "\n",
    "review_df = pd.DataFrame(data)\n",
    "data_file.close()"
   ]
  },
  {
   "cell_type": "code",
   "execution_count": null,
   "metadata": {},
   "outputs": [],
   "source": [
    "# review_df.head()"
   ]
  },
  {
   "cell_type": "code",
   "execution_count": 22,
   "metadata": {},
   "outputs": [
    {
     "data": {
      "text/plain": [
       "Index(['review_id', 'user_id', 'business_id', 'stars', 'useful', 'funny',\n",
       "       'cool', 'text', 'date'],\n",
       "      dtype='object')"
      ]
     },
     "execution_count": 22,
     "metadata": {},
     "output_type": "execute_result"
    }
   ],
   "source": [
    "review_df.columns"
   ]
  },
  {
   "cell_type": "code",
   "execution_count": 3,
   "metadata": {},
   "outputs": [],
   "source": [
    "# Drop reviews from before 1 June 2019 at midnight\n",
    "review_df = review_df[review_df['date'] >= '2019-06-01 00:00:00']"
   ]
  },
  {
   "cell_type": "code",
   "execution_count": 4,
   "metadata": {},
   "outputs": [],
   "source": [
    "# Sort reviews temporally\n",
    "review_df = review_df.sort_values(by = 'date')"
   ]
  },
  {
   "cell_type": "code",
   "execution_count": 5,
   "metadata": {},
   "outputs": [
    {
     "data": {
      "text/html": [
       "<div>\n",
       "<style scoped>\n",
       "    .dataframe tbody tr th:only-of-type {\n",
       "        vertical-align: middle;\n",
       "    }\n",
       "\n",
       "    .dataframe tbody tr th {\n",
       "        vertical-align: top;\n",
       "    }\n",
       "\n",
       "    .dataframe thead th {\n",
       "        text-align: right;\n",
       "    }\n",
       "</style>\n",
       "<table border=\"1\" class=\"dataframe\">\n",
       "  <thead>\n",
       "    <tr style=\"text-align: right;\">\n",
       "      <th></th>\n",
       "      <th>review_id</th>\n",
       "      <th>user_id</th>\n",
       "      <th>business_id</th>\n",
       "      <th>stars</th>\n",
       "      <th>useful</th>\n",
       "      <th>funny</th>\n",
       "      <th>cool</th>\n",
       "      <th>text</th>\n",
       "      <th>date</th>\n",
       "    </tr>\n",
       "  </thead>\n",
       "  <tbody>\n",
       "    <tr>\n",
       "      <th>5220767</th>\n",
       "      <td>YNt_oiBLUSbmVgrEzgVhqQ</td>\n",
       "      <td>m6pbhQsplRN__dWGfSDiuw</td>\n",
       "      <td>wP2ok4O0GsR9td7Iiv1zKA</td>\n",
       "      <td>5.0</td>\n",
       "      <td>0</td>\n",
       "      <td>0</td>\n",
       "      <td>0</td>\n",
       "      <td>My friend and I were searching for a quick and...</td>\n",
       "      <td>2019-06-01 00:00:27</td>\n",
       "    </tr>\n",
       "    <tr>\n",
       "      <th>1878123</th>\n",
       "      <td>_AnR2n91AwsB0XPlkVNuFQ</td>\n",
       "      <td>qDmEz_StNWi9ZF17h3olRg</td>\n",
       "      <td>VQcCL9PiNL_wkGf-uF3fjg</td>\n",
       "      <td>5.0</td>\n",
       "      <td>0</td>\n",
       "      <td>0</td>\n",
       "      <td>0</td>\n",
       "      <td>This place was awesome! From the wait staff to...</td>\n",
       "      <td>2019-06-01 00:00:37</td>\n",
       "    </tr>\n",
       "    <tr>\n",
       "      <th>4166158</th>\n",
       "      <td>pO6s7ZVlCAGGRBQwPkTD5Q</td>\n",
       "      <td>vzymudSlj6Gpk_jjHrz1gA</td>\n",
       "      <td>DpgizymrlpkAc-dAnFBWFQ</td>\n",
       "      <td>5.0</td>\n",
       "      <td>1</td>\n",
       "      <td>0</td>\n",
       "      <td>2</td>\n",
       "      <td>I never write a review but wanted to make sure...</td>\n",
       "      <td>2019-06-01 00:00:40</td>\n",
       "    </tr>\n",
       "    <tr>\n",
       "      <th>3201198</th>\n",
       "      <td>l2Gx9_IttTrkIH370QdjEQ</td>\n",
       "      <td>YSW26aHwfMTy2KscDq-ODQ</td>\n",
       "      <td>gP_oWJykA2RocIs_GurKWQ</td>\n",
       "      <td>5.0</td>\n",
       "      <td>0</td>\n",
       "      <td>0</td>\n",
       "      <td>0</td>\n",
       "      <td>This place is so good. We had never been there...</td>\n",
       "      <td>2019-06-01 00:00:44</td>\n",
       "    </tr>\n",
       "    <tr>\n",
       "      <th>3896993</th>\n",
       "      <td>rq7PtoOMU2ELcsJtYLmjDw</td>\n",
       "      <td>9gZ4R3EHF__2S9gSRHdr3A</td>\n",
       "      <td>sKDqswbR_bwxLueSOHqqNA</td>\n",
       "      <td>1.0</td>\n",
       "      <td>0</td>\n",
       "      <td>0</td>\n",
       "      <td>0</td>\n",
       "      <td>Horrible service. We ordered at 6 pm through t...</td>\n",
       "      <td>2019-06-01 00:01:00</td>\n",
       "    </tr>\n",
       "  </tbody>\n",
       "</table>\n",
       "</div>"
      ],
      "text/plain": [
       "                      review_id                 user_id  \\\n",
       "5220767  YNt_oiBLUSbmVgrEzgVhqQ  m6pbhQsplRN__dWGfSDiuw   \n",
       "1878123  _AnR2n91AwsB0XPlkVNuFQ  qDmEz_StNWi9ZF17h3olRg   \n",
       "4166158  pO6s7ZVlCAGGRBQwPkTD5Q  vzymudSlj6Gpk_jjHrz1gA   \n",
       "3201198  l2Gx9_IttTrkIH370QdjEQ  YSW26aHwfMTy2KscDq-ODQ   \n",
       "3896993  rq7PtoOMU2ELcsJtYLmjDw  9gZ4R3EHF__2S9gSRHdr3A   \n",
       "\n",
       "                    business_id  stars  useful  funny  cool  \\\n",
       "5220767  wP2ok4O0GsR9td7Iiv1zKA    5.0       0      0     0   \n",
       "1878123  VQcCL9PiNL_wkGf-uF3fjg    5.0       0      0     0   \n",
       "4166158  DpgizymrlpkAc-dAnFBWFQ    5.0       1      0     2   \n",
       "3201198  gP_oWJykA2RocIs_GurKWQ    5.0       0      0     0   \n",
       "3896993  sKDqswbR_bwxLueSOHqqNA    1.0       0      0     0   \n",
       "\n",
       "                                                      text  \\\n",
       "5220767  My friend and I were searching for a quick and...   \n",
       "1878123  This place was awesome! From the wait staff to...   \n",
       "4166158  I never write a review but wanted to make sure...   \n",
       "3201198  This place is so good. We had never been there...   \n",
       "3896993  Horrible service. We ordered at 6 pm through t...   \n",
       "\n",
       "                        date  \n",
       "5220767  2019-06-01 00:00:27  \n",
       "1878123  2019-06-01 00:00:37  \n",
       "4166158  2019-06-01 00:00:40  \n",
       "3201198  2019-06-01 00:00:44  \n",
       "3896993  2019-06-01 00:01:00  "
      ]
     },
     "execution_count": 5,
     "metadata": {},
     "output_type": "execute_result"
    }
   ],
   "source": [
    "review_df.head()"
   ]
  },
  {
   "cell_type": "code",
   "execution_count": 6,
   "metadata": {},
   "outputs": [],
   "source": [
    "# Set stop words\n",
    "stop_words = set(stopwords.words('english'))"
   ]
  },
  {
   "cell_type": "code",
   "execution_count": 7,
   "metadata": {},
   "outputs": [],
   "source": [
    "# Drop all positive reviews and reset index\n",
    "bad_review_df = review_df[review_df['stars'] < 3.0].reset_index()"
   ]
  },
  {
   "cell_type": "code",
   "execution_count": null,
   "metadata": {},
   "outputs": [],
   "source": [
    "# new_text = nltk.Text(test)"
   ]
  },
  {
   "cell_type": "code",
   "execution_count": null,
   "metadata": {},
   "outputs": [],
   "source": [
    "# new_text.concordance('artichoke')"
   ]
  },
  {
   "cell_type": "code",
   "execution_count": 18,
   "metadata": {},
   "outputs": [],
   "source": [
    "# Drop unnecessary columns\n",
    "bad_review_df.drop(['review_id', 'user_id', 'useful', 'funny', 'cool'], axis = 1, inplace = True)"
   ]
  },
  {
   "cell_type": "code",
   "execution_count": 21,
   "metadata": {},
   "outputs": [
    {
     "data": {
      "text/plain": [
       "446108"
      ]
     },
     "execution_count": 21,
     "metadata": {},
     "output_type": "execute_result"
    }
   ],
   "source": []
  },
  {
   "cell_type": "code",
   "execution_count": 15,
   "metadata": {},
   "outputs": [
    {
     "data": {
      "text/plain": [
       "10000    Everything went great with the oil change up u...\n",
       "Name: text, dtype: object"
      ]
     },
     "execution_count": 15,
     "metadata": {},
     "output_type": "execute_result"
    }
   ],
   "source": [
    "bad_review_df.iloc[[10000]]"
   ]
  },
  {
   "cell_type": "code",
   "execution_count": null,
   "metadata": {},
   "outputs": [],
   "source": [
    "# Take only the review coulumn\n",
    "reviews = bad_review_df['text']\n"
   ]
  },
  {
   "cell_type": "code",
   "execution_count": null,
   "metadata": {},
   "outputs": [],
   "source": [
    "reviews[12]"
   ]
  },
  {
   "cell_type": "code",
   "execution_count": null,
   "metadata": {},
   "outputs": [],
   "source": [
    "# Define function to ensure each word is lemmatized as the proper part of speech\n",
    "def lemma_pos(text):\n",
    "    \n",
    "    # Dependencies\n",
    "    from nltk.corpus import wordnet as wn\n",
    "    from nltk.stem.wordnet import WordNetLemmatizer\n",
    "    from nltk import word_tokenize, pos_tag\n",
    "    from collections import defaultdict\n",
    "\n",
    "    # Create tag map\n",
    "    tag_map = defaultdict(lambda : wn.NOUN)\n",
    "    tag_map['J'] = wn.ADJ\n",
    "    tag_map['V'] = wn.VERB\n",
    "    tag_map['R'] = wn.ADV\n",
    "\n",
    "\n",
    "    tokens = word_tokenize(text)\n",
    "    lmtzr = WordNetLemmatizer()\n",
    "\n",
    "    # Initialize list\n",
    "    lemmas = []\n",
    "\n",
    "    for token, tag in pos_tag(tokens):\n",
    "        lemma = lmtzr.lemmatize(token, tag_map[tag[0]])\n",
    "        lemmas.append(lemma)\n",
    "    \n",
    "    return lemmas"
   ]
  },
  {
   "cell_type": "code",
   "execution_count": null,
   "metadata": {},
   "outputs": [],
   "source": [
    "# Defining function to word tokenize and lemmatize each review, then check for sense words\n",
    "\n",
    "def create_word_list(review):\n",
    "    \n",
    "    # Define stop words\n",
    "    stop_words = set(stopwords.words('english'))\n",
    "\n",
    "    # Word tokenize review\n",
    "    review_words = word_tokenize(review)\n",
    "\n",
    "    # Filter words \n",
    "    filtered_words = []\n",
    "\n",
    "    filtered_words = [\n",
    "        word for word in review_words if word.casefold() not in stop_words\n",
    "    ]\n",
    "\n",
    "    # Lemmatize filtered words\n",
    "    lemmas = lemmas_pos(filtered_words)\n",
    "    \n",
    "    # Check for sense words\n",
    "    \n",
    "    \n",
    "    "
   ]
  }
 ],
 "metadata": {
  "interpreter": {
   "hash": "d8ee7bb5d06fefd70f8a98d7345ee36eea54533999c2e9150ed66738d5a0c643"
  },
  "kernelspec": {
   "display_name": "Python 3.9.7 ('base')",
   "language": "python",
   "name": "python3"
  },
  "language_info": {
   "codemirror_mode": {
    "name": "ipython",
    "version": 3
   },
   "file_extension": ".py",
   "mimetype": "text/x-python",
   "name": "python",
   "nbconvert_exporter": "python",
   "pygments_lexer": "ipython3",
   "version": "3.9.7"
  },
  "orig_nbformat": 4
 },
 "nbformat": 4,
 "nbformat_minor": 2
}
